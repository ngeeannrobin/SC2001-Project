{
 "cells": [
  {
   "cell_type": "code",
   "execution_count": 1,
   "metadata": {},
   "outputs": [],
   "source": [
    "import seaborn as sns\n",
    "import matplotlib.pyplot as plt\n",
    "import pandas as pd"
   ]
  },
  {
   "cell_type": "code",
   "execution_count": 12,
   "metadata": {},
   "outputs": [
    {
     "data": {
      "text/html": [
       "<div>\n",
       "<style scoped>\n",
       "    .dataframe tbody tr th:only-of-type {\n",
       "        vertical-align: middle;\n",
       "    }\n",
       "\n",
       "    .dataframe tbody tr th {\n",
       "        vertical-align: top;\n",
       "    }\n",
       "\n",
       "    .dataframe thead th {\n",
       "        text-align: right;\n",
       "    }\n",
       "</style>\n",
       "<table border=\"1\" class=\"dataframe\">\n",
       "  <thead>\n",
       "    <tr style=\"text-align: right;\">\n",
       "      <th></th>\n",
       "      <th>1</th>\n",
       "      <th>2</th>\n",
       "      <th>3</th>\n",
       "      <th>4</th>\n",
       "      <th>5</th>\n",
       "      <th>6</th>\n",
       "      <th>7</th>\n",
       "      <th>8</th>\n",
       "      <th>9</th>\n",
       "      <th>10</th>\n",
       "    </tr>\n",
       "  </thead>\n",
       "  <tbody>\n",
       "    <tr>\n",
       "      <th>0</th>\n",
       "      <td>9702</td>\n",
       "      <td>9463</td>\n",
       "      <td>9451</td>\n",
       "      <td>9314</td>\n",
       "      <td>9314</td>\n",
       "      <td>9314</td>\n",
       "      <td>9367</td>\n",
       "      <td>9536</td>\n",
       "      <td>9536</td>\n",
       "      <td>9536</td>\n",
       "    </tr>\n",
       "    <tr>\n",
       "      <th>1</th>\n",
       "      <td>9697</td>\n",
       "      <td>9448</td>\n",
       "      <td>9432</td>\n",
       "      <td>9280</td>\n",
       "      <td>9280</td>\n",
       "      <td>9280</td>\n",
       "      <td>9285</td>\n",
       "      <td>9481</td>\n",
       "      <td>9481</td>\n",
       "      <td>9481</td>\n",
       "    </tr>\n",
       "    <tr>\n",
       "      <th>2</th>\n",
       "      <td>9697</td>\n",
       "      <td>9478</td>\n",
       "      <td>9463</td>\n",
       "      <td>9322</td>\n",
       "      <td>9322</td>\n",
       "      <td>9322</td>\n",
       "      <td>9335</td>\n",
       "      <td>9512</td>\n",
       "      <td>9512</td>\n",
       "      <td>9512</td>\n",
       "    </tr>\n",
       "    <tr>\n",
       "      <th>3</th>\n",
       "      <td>9700</td>\n",
       "      <td>9480</td>\n",
       "      <td>9461</td>\n",
       "      <td>9299</td>\n",
       "      <td>9299</td>\n",
       "      <td>9299</td>\n",
       "      <td>9311</td>\n",
       "      <td>9487</td>\n",
       "      <td>9487</td>\n",
       "      <td>9487</td>\n",
       "    </tr>\n",
       "    <tr>\n",
       "      <th>4</th>\n",
       "      <td>9706</td>\n",
       "      <td>9447</td>\n",
       "      <td>9432</td>\n",
       "      <td>9251</td>\n",
       "      <td>9251</td>\n",
       "      <td>9251</td>\n",
       "      <td>9247</td>\n",
       "      <td>9398</td>\n",
       "      <td>9398</td>\n",
       "      <td>9398</td>\n",
       "    </tr>\n",
       "  </tbody>\n",
       "</table>\n",
       "</div>"
      ],
      "text/plain": [
       "     1     2     3     4     5     6     7     8     9     10\n",
       "0  9702  9463  9451  9314  9314  9314  9367  9536  9536  9536\n",
       "1  9697  9448  9432  9280  9280  9280  9285  9481  9481  9481\n",
       "2  9697  9478  9463  9322  9322  9322  9335  9512  9512  9512\n",
       "3  9700  9480  9461  9299  9299  9299  9311  9487  9487  9487\n",
       "4  9706  9447  9432  9251  9251  9251  9247  9398  9398  9398"
      ]
     },
     "execution_count": 12,
     "metadata": {},
     "output_type": "execute_result"
    }
   ],
   "source": [
    "data = pd.read_csv(\"./sc2001-1-1000.csv\", header=None)\n",
    "data.drop(data.columns[10], axis=1, inplace=True)\n",
    "data.columns = range(1, 11)\n",
    "data.head()"
   ]
  },
  {
   "cell_type": "code",
   "execution_count": 13,
   "metadata": {},
   "outputs": [
    {
     "data": {
      "text/plain": [
       "1     9703.29\n",
       "2     9459.57\n",
       "3     9443.08\n",
       "4     9291.02\n",
       "5     9291.02\n",
       "6     9291.02\n",
       "7     9305.66\n",
       "8     9471.73\n",
       "9     9471.73\n",
       "10    9471.73\n",
       "dtype: float64"
      ]
     },
     "execution_count": 13,
     "metadata": {},
     "output_type": "execute_result"
    }
   ],
   "source": [
    "col_means = data.mean()\n",
    "col_means"
   ]
  },
  {
   "cell_type": "code",
   "execution_count": 14,
   "metadata": {},
   "outputs": [
    {
     "name": "stderr",
     "output_type": "stream",
     "text": [
      "c:\\Users\\13248\\AppData\\Local\\Programs\\Python\\Python311\\Lib\\site-packages\\seaborn\\_oldcore.py:1498: FutureWarning: is_categorical_dtype is deprecated and will be removed in a future version. Use isinstance(dtype, CategoricalDtype) instead\n",
      "  if pd.api.types.is_categorical_dtype(vector):\n",
      "c:\\Users\\13248\\AppData\\Local\\Programs\\Python\\Python311\\Lib\\site-packages\\seaborn\\_oldcore.py:1498: FutureWarning: is_categorical_dtype is deprecated and will be removed in a future version. Use isinstance(dtype, CategoricalDtype) instead\n",
      "  if pd.api.types.is_categorical_dtype(vector):\n",
      "c:\\Users\\13248\\AppData\\Local\\Programs\\Python\\Python311\\Lib\\site-packages\\seaborn\\_oldcore.py:1119: FutureWarning: use_inf_as_na option is deprecated and will be removed in a future version. Convert inf values to NaN before operating instead.\n",
      "  with pd.option_context('mode.use_inf_as_na', True):\n",
      "c:\\Users\\13248\\AppData\\Local\\Programs\\Python\\Python311\\Lib\\site-packages\\seaborn\\_oldcore.py:1119: FutureWarning: use_inf_as_na option is deprecated and will be removed in a future version. Convert inf values to NaN before operating instead.\n",
      "  with pd.option_context('mode.use_inf_as_na', True):\n"
     ]
    },
    {
     "data": {
      "text/plain": [
       "<Axes: >"
      ]
     },
     "execution_count": 14,
     "metadata": {},
     "output_type": "execute_result"
    },
    {
     "data": {
      "image/png": "[encoded data removed]",
      "text/plain": [
       "<Figure size 640x480 with 1 Axes>"
      ]
     },
     "metadata": {},
     "output_type": "display_data"
    }
   ],
   "source": [
    "sns.lineplot(data=col_means)"
   ]
  },
  {
   "cell_type": "code",
   "execution_count": null,
   "metadata": {},
   "outputs": [],
   "source": []
  }
 ],
 "metadata": {
  "kernelspec": {
   "display_name": "Python 3",
   "language": "python",
   "name": "python3"
  },
  "language_info": {
   "codemirror_mode": {
    "name": "ipython",
    "version": 3
   },
   "file_extension": ".py",
   "mimetype": "text/x-python",
   "name": "python",
   "nbconvert_exporter": "python",
   "pygments_lexer": "ipython3",
   "version": "3.11.5"
  },
  "orig_nbformat": 4
 },
 "nbformat": 4,
 "nbformat_minor": 2
}

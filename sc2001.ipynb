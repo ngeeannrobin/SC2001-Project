{
 "cells": [
  {
   "cell_type": "code",
   "execution_count": 12,
   "metadata": {},
   "outputs": [],
   "source": [
    "import seaborn as sns\n",
    "import matplotlib.pyplot as plt\n",
    "import pandas as pd"
   ]
  },
  {
   "cell_type": "code",
   "execution_count": 13,
   "metadata": {},
   "outputs": [
    {
     "data": {
      "text/html": [
       "<div>\n",
       "<style scoped>\n",
       "    .dataframe tbody tr th:only-of-type {\n",
       "        vertical-align: middle;\n",
       "    }\n",
       "\n",
       "    .dataframe tbody tr th {\n",
       "        vertical-align: top;\n",
       "    }\n",
       "\n",
       "    .dataframe thead th {\n",
       "        text-align: right;\n",
       "    }\n",
       "</style>\n",
       "<table border=\"1\" class=\"dataframe\">\n",
       "  <thead>\n",
       "    <tr style=\"text-align: right;\">\n",
       "      <th></th>\n",
       "      <th>1</th>\n",
       "      <th>2</th>\n",
       "      <th>3</th>\n",
       "      <th>4</th>\n",
       "      <th>5</th>\n",
       "      <th>6</th>\n",
       "      <th>7</th>\n",
       "      <th>8</th>\n",
       "      <th>9</th>\n",
       "      <th>10</th>\n",
       "    </tr>\n",
       "  </thead>\n",
       "  <tbody>\n",
       "    <tr>\n",
       "      <th>0</th>\n",
       "      <td>9702</td>\n",
       "      <td>9463</td>\n",
       "      <td>9451</td>\n",
       "      <td>9314</td>\n",
       "      <td>9314</td>\n",
       "      <td>9314</td>\n",
       "      <td>9367</td>\n",
       "      <td>9536</td>\n",
       "      <td>9536</td>\n",
       "      <td>9536</td>\n",
       "    </tr>\n",
       "    <tr>\n",
       "      <th>1</th>\n",
       "      <td>9697</td>\n",
       "      <td>9448</td>\n",
       "      <td>9432</td>\n",
       "      <td>9280</td>\n",
       "      <td>9280</td>\n",
       "      <td>9280</td>\n",
       "      <td>9285</td>\n",
       "      <td>9481</td>\n",
       "      <td>9481</td>\n",
       "      <td>9481</td>\n",
       "    </tr>\n",
       "    <tr>\n",
       "      <th>2</th>\n",
       "      <td>9697</td>\n",
       "      <td>9478</td>\n",
       "      <td>9463</td>\n",
       "      <td>9322</td>\n",
       "      <td>9322</td>\n",
       "      <td>9322</td>\n",
       "      <td>9335</td>\n",
       "      <td>9512</td>\n",
       "      <td>9512</td>\n",
       "      <td>9512</td>\n",
       "    </tr>\n",
       "    <tr>\n",
       "      <th>3</th>\n",
       "      <td>9700</td>\n",
       "      <td>9480</td>\n",
       "      <td>9461</td>\n",
       "      <td>9299</td>\n",
       "      <td>9299</td>\n",
       "      <td>9299</td>\n",
       "      <td>9311</td>\n",
       "      <td>9487</td>\n",
       "      <td>9487</td>\n",
       "      <td>9487</td>\n",
       "    </tr>\n",
       "    <tr>\n",
       "      <th>4</th>\n",
       "      <td>9706</td>\n",
       "      <td>9447</td>\n",
       "      <td>9432</td>\n",
       "      <td>9251</td>\n",
       "      <td>9251</td>\n",
       "      <td>9251</td>\n",
       "      <td>9247</td>\n",
       "      <td>9398</td>\n",
       "      <td>9398</td>\n",
       "      <td>9398</td>\n",
       "    </tr>\n",
       "    <tr>\n",
       "      <th>...</th>\n",
       "      <td>...</td>\n",
       "      <td>...</td>\n",
       "      <td>...</td>\n",
       "      <td>...</td>\n",
       "      <td>...</td>\n",
       "      <td>...</td>\n",
       "      <td>...</td>\n",
       "      <td>...</td>\n",
       "      <td>...</td>\n",
       "      <td>...</td>\n",
       "    </tr>\n",
       "    <tr>\n",
       "      <th>95</th>\n",
       "      <td>9714</td>\n",
       "      <td>9466</td>\n",
       "      <td>9450</td>\n",
       "      <td>9326</td>\n",
       "      <td>9326</td>\n",
       "      <td>9326</td>\n",
       "      <td>9340</td>\n",
       "      <td>9443</td>\n",
       "      <td>9443</td>\n",
       "      <td>9443</td>\n",
       "    </tr>\n",
       "    <tr>\n",
       "      <th>96</th>\n",
       "      <td>9705</td>\n",
       "      <td>9457</td>\n",
       "      <td>9441</td>\n",
       "      <td>9289</td>\n",
       "      <td>9289</td>\n",
       "      <td>9289</td>\n",
       "      <td>9316</td>\n",
       "      <td>9475</td>\n",
       "      <td>9475</td>\n",
       "      <td>9475</td>\n",
       "    </tr>\n",
       "    <tr>\n",
       "      <th>97</th>\n",
       "      <td>9718</td>\n",
       "      <td>9466</td>\n",
       "      <td>9447</td>\n",
       "      <td>9287</td>\n",
       "      <td>9287</td>\n",
       "      <td>9287</td>\n",
       "      <td>9297</td>\n",
       "      <td>9468</td>\n",
       "      <td>9468</td>\n",
       "      <td>9468</td>\n",
       "    </tr>\n",
       "    <tr>\n",
       "      <th>98</th>\n",
       "      <td>9707</td>\n",
       "      <td>9460</td>\n",
       "      <td>9447</td>\n",
       "      <td>9276</td>\n",
       "      <td>9276</td>\n",
       "      <td>9276</td>\n",
       "      <td>9304</td>\n",
       "      <td>9442</td>\n",
       "      <td>9442</td>\n",
       "      <td>9442</td>\n",
       "    </tr>\n",
       "    <tr>\n",
       "      <th>99</th>\n",
       "      <td>9679</td>\n",
       "      <td>9445</td>\n",
       "      <td>9430</td>\n",
       "      <td>9283</td>\n",
       "      <td>9283</td>\n",
       "      <td>9283</td>\n",
       "      <td>9287</td>\n",
       "      <td>9417</td>\n",
       "      <td>9417</td>\n",
       "      <td>9417</td>\n",
       "    </tr>\n",
       "  </tbody>\n",
       "</table>\n",
       "<p>100 rows × 10 columns</p>\n",
       "</div>"
      ],
      "text/plain": [
       "      1     2     3     4     5     6     7     8     9     10\n",
       "0   9702  9463  9451  9314  9314  9314  9367  9536  9536  9536\n",
       "1   9697  9448  9432  9280  9280  9280  9285  9481  9481  9481\n",
       "2   9697  9478  9463  9322  9322  9322  9335  9512  9512  9512\n",
       "3   9700  9480  9461  9299  9299  9299  9311  9487  9487  9487\n",
       "4   9706  9447  9432  9251  9251  9251  9247  9398  9398  9398\n",
       "..   ...   ...   ...   ...   ...   ...   ...   ...   ...   ...\n",
       "95  9714  9466  9450  9326  9326  9326  9340  9443  9443  9443\n",
       "96  9705  9457  9441  9289  9289  9289  9316  9475  9475  9475\n",
       "97  9718  9466  9447  9287  9287  9287  9297  9468  9468  9468\n",
       "98  9707  9460  9447  9276  9276  9276  9304  9442  9442  9442\n",
       "99  9679  9445  9430  9283  9283  9283  9287  9417  9417  9417\n",
       "\n",
       "[100 rows x 10 columns]"
      ]
     },
     "execution_count": 13,
     "metadata": {},
     "output_type": "execute_result"
    }
   ],
   "source": [
    "data1000 = pd.read_csv(\"./sc2001-1-1000.csv\", header=None)\n",
    "data1000.drop(data1000.columns[10], axis=1, inplace=True)\n",
    "data1000.columns = range(1, 11)\n",
    "data1000.head(100)"
   ]
  },
  {
   "cell_type": "code",
   "execution_count": 14,
   "metadata": {},
   "outputs": [
    {
     "name": "stdout",
     "output_type": "stream",
     "text": [
      "1     9703.29\n",
      "2     9459.57\n",
      "3     9443.08\n",
      "4     9291.02\n",
      "5     9291.02\n",
      "6     9291.02\n",
      "7     9305.66\n",
      "8     9471.73\n",
      "9     9471.73\n",
      "10    9471.73\n",
      "dtype: float64\n"
     ]
    }
   ],
   "source": [
    "import pandas as pd\n",
    "\n",
    "column_means_1000 = data1000.mean()\n",
    "\n",
    "print(column_means_1000)\n"
   ]
  },
  {
   "cell_type": "code",
   "execution_count": 15,
   "metadata": {},
   "outputs": [
    {
     "name": "stderr",
     "output_type": "stream",
     "text": [
      "c:\\Users\\13248\\AppData\\Local\\Programs\\Python\\Python311\\Lib\\site-packages\\seaborn\\_oldcore.py:1498: FutureWarning: is_categorical_dtype is deprecated and will be removed in a future version. Use isinstance(dtype, CategoricalDtype) instead\n",
      "  if pd.api.types.is_categorical_dtype(vector):\n",
      "c:\\Users\\13248\\AppData\\Local\\Programs\\Python\\Python311\\Lib\\site-packages\\seaborn\\_oldcore.py:1498: FutureWarning: is_categorical_dtype is deprecated and will be removed in a future version. Use isinstance(dtype, CategoricalDtype) instead\n",
      "  if pd.api.types.is_categorical_dtype(vector):\n",
      "c:\\Users\\13248\\AppData\\Local\\Programs\\Python\\Python311\\Lib\\site-packages\\seaborn\\_oldcore.py:1119: FutureWarning: use_inf_as_na option is deprecated and will be removed in a future version. Convert inf values to NaN before operating instead.\n",
      "  with pd.option_context('mode.use_inf_as_na', True):\n",
      "c:\\Users\\13248\\AppData\\Local\\Programs\\Python\\Python311\\Lib\\site-packages\\seaborn\\_oldcore.py:1119: FutureWarning: use_inf_as_na option is deprecated and will be removed in a future version. Convert inf values to NaN before operating instead.\n",
      "  with pd.option_context('mode.use_inf_as_na', True):\n"
     ]
    },
    {
     "data": {
      "text/plain": [
       "<Axes: >"
      ]
     },
     "execution_count": 15,
     "metadata": {},
     "output_type": "execute_result"
    },
    {
     "data": {
      "image/png": "[encoded data removed]",
      "text/plain": [
       "<Figure size 640x480 with 1 Axes>"
      ]
     },
     "metadata": {},
     "output_type": "display_data"
    }
   ],
   "source": [
    "sns.lineplot(data=column_means_1000)"
   ]
  },
  {
   "cell_type": "code",
   "execution_count": 16,
   "metadata": {},
   "outputs": [
    {
     "data": {
      "text/html": [
       "<div>\n",
       "<style scoped>\n",
       "    .dataframe tbody tr th:only-of-type {\n",
       "        vertical-align: middle;\n",
       "    }\n",
       "\n",
       "    .dataframe tbody tr th {\n",
       "        vertical-align: top;\n",
       "    }\n",
       "\n",
       "    .dataframe thead th {\n",
       "        text-align: right;\n",
       "    }\n",
       "</style>\n",
       "<table border=\"1\" class=\"dataframe\">\n",
       "  <thead>\n",
       "    <tr style=\"text-align: right;\">\n",
       "      <th></th>\n",
       "      <th>1</th>\n",
       "      <th>2</th>\n",
       "      <th>3</th>\n",
       "      <th>4</th>\n",
       "      <th>5</th>\n",
       "      <th>6</th>\n",
       "      <th>7</th>\n",
       "      <th>8</th>\n",
       "      <th>9</th>\n",
       "      <th>10</th>\n",
       "    </tr>\n",
       "  </thead>\n",
       "  <tbody>\n",
       "    <tr>\n",
       "      <th>0</th>\n",
       "      <td>130378</td>\n",
       "      <td>128321</td>\n",
       "      <td>127135</td>\n",
       "      <td>126968</td>\n",
       "      <td>125960</td>\n",
       "      <td>125960</td>\n",
       "      <td>125960</td>\n",
       "      <td>125960</td>\n",
       "      <td>126537</td>\n",
       "      <td>130172</td>\n",
       "    </tr>\n",
       "    <tr>\n",
       "      <th>1</th>\n",
       "      <td>130386</td>\n",
       "      <td>128341</td>\n",
       "      <td>127114</td>\n",
       "      <td>126968</td>\n",
       "      <td>126058</td>\n",
       "      <td>126058</td>\n",
       "      <td>126058</td>\n",
       "      <td>126058</td>\n",
       "      <td>126586</td>\n",
       "      <td>129764</td>\n",
       "    </tr>\n",
       "    <tr>\n",
       "      <th>2</th>\n",
       "      <td>130477</td>\n",
       "      <td>128408</td>\n",
       "      <td>127192</td>\n",
       "      <td>126997</td>\n",
       "      <td>126042</td>\n",
       "      <td>126042</td>\n",
       "      <td>126042</td>\n",
       "      <td>126042</td>\n",
       "      <td>126737</td>\n",
       "      <td>130012</td>\n",
       "    </tr>\n",
       "    <tr>\n",
       "      <th>3</th>\n",
       "      <td>130472</td>\n",
       "      <td>128483</td>\n",
       "      <td>127274</td>\n",
       "      <td>127091</td>\n",
       "      <td>126131</td>\n",
       "      <td>126131</td>\n",
       "      <td>126131</td>\n",
       "      <td>126131</td>\n",
       "      <td>126748</td>\n",
       "      <td>130024</td>\n",
       "    </tr>\n",
       "    <tr>\n",
       "      <th>4</th>\n",
       "      <td>130451</td>\n",
       "      <td>128424</td>\n",
       "      <td>127191</td>\n",
       "      <td>127001</td>\n",
       "      <td>126028</td>\n",
       "      <td>126028</td>\n",
       "      <td>126028</td>\n",
       "      <td>126028</td>\n",
       "      <td>126679</td>\n",
       "      <td>129853</td>\n",
       "    </tr>\n",
       "    <tr>\n",
       "      <th>...</th>\n",
       "      <td>...</td>\n",
       "      <td>...</td>\n",
       "      <td>...</td>\n",
       "      <td>...</td>\n",
       "      <td>...</td>\n",
       "      <td>...</td>\n",
       "      <td>...</td>\n",
       "      <td>...</td>\n",
       "      <td>...</td>\n",
       "      <td>...</td>\n",
       "    </tr>\n",
       "    <tr>\n",
       "      <th>95</th>\n",
       "      <td>130562</td>\n",
       "      <td>128482</td>\n",
       "      <td>127280</td>\n",
       "      <td>127107</td>\n",
       "      <td>126154</td>\n",
       "      <td>126154</td>\n",
       "      <td>126154</td>\n",
       "      <td>126154</td>\n",
       "      <td>126780</td>\n",
       "      <td>129981</td>\n",
       "    </tr>\n",
       "    <tr>\n",
       "      <th>96</th>\n",
       "      <td>130446</td>\n",
       "      <td>128401</td>\n",
       "      <td>127220</td>\n",
       "      <td>127068</td>\n",
       "      <td>126177</td>\n",
       "      <td>126177</td>\n",
       "      <td>126177</td>\n",
       "      <td>126177</td>\n",
       "      <td>126706</td>\n",
       "      <td>129897</td>\n",
       "    </tr>\n",
       "    <tr>\n",
       "      <th>97</th>\n",
       "      <td>130414</td>\n",
       "      <td>128311</td>\n",
       "      <td>127099</td>\n",
       "      <td>126925</td>\n",
       "      <td>125838</td>\n",
       "      <td>125838</td>\n",
       "      <td>125838</td>\n",
       "      <td>125838</td>\n",
       "      <td>126518</td>\n",
       "      <td>129728</td>\n",
       "    </tr>\n",
       "    <tr>\n",
       "      <th>98</th>\n",
       "      <td>130424</td>\n",
       "      <td>128349</td>\n",
       "      <td>127123</td>\n",
       "      <td>126972</td>\n",
       "      <td>126010</td>\n",
       "      <td>126010</td>\n",
       "      <td>126010</td>\n",
       "      <td>126010</td>\n",
       "      <td>126729</td>\n",
       "      <td>129929</td>\n",
       "    </tr>\n",
       "    <tr>\n",
       "      <th>99</th>\n",
       "      <td>130475</td>\n",
       "      <td>128426</td>\n",
       "      <td>127211</td>\n",
       "      <td>127029</td>\n",
       "      <td>126076</td>\n",
       "      <td>126076</td>\n",
       "      <td>126076</td>\n",
       "      <td>126076</td>\n",
       "      <td>126783</td>\n",
       "      <td>130125</td>\n",
       "    </tr>\n",
       "  </tbody>\n",
       "</table>\n",
       "<p>100 rows × 10 columns</p>\n",
       "</div>"
      ],
      "text/plain": [
       "        1       2       3       4       5       6       7       8       9   \\\n",
       "0   130378  128321  127135  126968  125960  125960  125960  125960  126537   \n",
       "1   130386  128341  127114  126968  126058  126058  126058  126058  126586   \n",
       "2   130477  128408  127192  126997  126042  126042  126042  126042  126737   \n",
       "3   130472  128483  127274  127091  126131  126131  126131  126131  126748   \n",
       "4   130451  128424  127191  127001  126028  126028  126028  126028  126679   \n",
       "..     ...     ...     ...     ...     ...     ...     ...     ...     ...   \n",
       "95  130562  128482  127280  127107  126154  126154  126154  126154  126780   \n",
       "96  130446  128401  127220  127068  126177  126177  126177  126177  126706   \n",
       "97  130414  128311  127099  126925  125838  125838  125838  125838  126518   \n",
       "98  130424  128349  127123  126972  126010  126010  126010  126010  126729   \n",
       "99  130475  128426  127211  127029  126076  126076  126076  126076  126783   \n",
       "\n",
       "        10  \n",
       "0   130172  \n",
       "1   129764  \n",
       "2   130012  \n",
       "3   130024  \n",
       "4   129853  \n",
       "..     ...  \n",
       "95  129981  \n",
       "96  129897  \n",
       "97  129728  \n",
       "98  129929  \n",
       "99  130125  \n",
       "\n",
       "[100 rows x 10 columns]"
      ]
     },
     "execution_count": 16,
     "metadata": {},
     "output_type": "execute_result"
    }
   ],
   "source": [
    "data10000 = pd.read_csv(\"./sc2001-1-10000.csv\", header=None)\n",
    "data10000.drop(data10000.columns[10], axis=1, inplace=True)\n",
    "data10000.columns = range(1, 11)\n",
    "data10000.head(100)"
   ]
  },
  {
   "cell_type": "code",
   "execution_count": 17,
   "metadata": {},
   "outputs": [
    {
     "name": "stdout",
     "output_type": "stream",
     "text": [
      "1     130447.05\n",
      "2     128397.20\n",
      "3     127193.04\n",
      "4     127031.14\n",
      "5     126108.36\n",
      "6     126108.36\n",
      "7     126108.36\n",
      "8     126108.36\n",
      "9     126748.41\n",
      "10    130048.14\n",
      "dtype: float64\n"
     ]
    }
   ],
   "source": [
    "import pandas as pd\n",
    "\n",
    "column_means_10000 = data10000.mean()\n",
    "\n",
    "print(column_means_10000)"
   ]
  },
  {
   "cell_type": "code",
   "execution_count": 18,
   "metadata": {},
   "outputs": [
    {
     "name": "stderr",
     "output_type": "stream",
     "text": [
      "c:\\Users\\13248\\AppData\\Local\\Programs\\Python\\Python311\\Lib\\site-packages\\seaborn\\_oldcore.py:1498: FutureWarning: is_categorical_dtype is deprecated and will be removed in a future version. Use isinstance(dtype, CategoricalDtype) instead\n",
      "  if pd.api.types.is_categorical_dtype(vector):\n",
      "c:\\Users\\13248\\AppData\\Local\\Programs\\Python\\Python311\\Lib\\site-packages\\seaborn\\_oldcore.py:1498: FutureWarning: is_categorical_dtype is deprecated and will be removed in a future version. Use isinstance(dtype, CategoricalDtype) instead\n",
      "  if pd.api.types.is_categorical_dtype(vector):\n",
      "c:\\Users\\13248\\AppData\\Local\\Programs\\Python\\Python311\\Lib\\site-packages\\seaborn\\_oldcore.py:1119: FutureWarning: use_inf_as_na option is deprecated and will be removed in a future version. Convert inf values to NaN before operating instead.\n",
      "  with pd.option_context('mode.use_inf_as_na', True):\n",
      "c:\\Users\\13248\\AppData\\Local\\Programs\\Python\\Python311\\Lib\\site-packages\\seaborn\\_oldcore.py:1119: FutureWarning: use_inf_as_na option is deprecated and will be removed in a future version. Convert inf values to NaN before operating instead.\n",
      "  with pd.option_context('mode.use_inf_as_na', True):\n"
     ]
    },
    {
     "data": {
      "text/plain": [
       "<Axes: >"
      ]
     },
     "execution_count": 18,
     "metadata": {},
     "output_type": "execute_result"
    },
    {
     "data": {
      "image/png": "[encoded data removed]",
      "text/plain": [
       "<Figure size 640x480 with 1 Axes>"
      ]
     },
     "metadata": {},
     "output_type": "display_data"
    }
   ],
   "source": [
    "sns.lineplot(data=column_means_10000)"
   ]
  },
  {
   "cell_type": "code",
   "execution_count": 20,
   "metadata": {},
   "outputs": [
    {
     "name": "stdout",
     "output_type": "stream",
     "text": [
      "1     1636364.85\n",
      "2     1619131.63\n",
      "3     1598409.23\n",
      "4     1597283.81\n",
      "5     1597283.81\n",
      "6     1597254.14\n",
      "7     1598268.68\n",
      "8     1598268.68\n",
      "9     1598268.68\n",
      "10    1598268.68\n",
      "dtype: float64\n"
     ]
    },
    {
     "name": "stderr",
     "output_type": "stream",
     "text": [
      "c:\\Users\\13248\\AppData\\Local\\Programs\\Python\\Python311\\Lib\\site-packages\\seaborn\\_oldcore.py:1498: FutureWarning: is_categorical_dtype is deprecated and will be removed in a future version. Use isinstance(dtype, CategoricalDtype) instead\n",
      "  if pd.api.types.is_categorical_dtype(vector):\n",
      "c:\\Users\\13248\\AppData\\Local\\Programs\\Python\\Python311\\Lib\\site-packages\\seaborn\\_oldcore.py:1498: FutureWarning: is_categorical_dtype is deprecated and will be removed in a future version. Use isinstance(dtype, CategoricalDtype) instead\n",
      "  if pd.api.types.is_categorical_dtype(vector):\n",
      "c:\\Users\\13248\\AppData\\Local\\Programs\\Python\\Python311\\Lib\\site-packages\\seaborn\\_oldcore.py:1119: FutureWarning: use_inf_as_na option is deprecated and will be removed in a future version. Convert inf values to NaN before operating instead.\n",
      "  with pd.option_context('mode.use_inf_as_na', True):\n",
      "c:\\Users\\13248\\AppData\\Local\\Programs\\Python\\Python311\\Lib\\site-packages\\seaborn\\_oldcore.py:1119: FutureWarning: use_inf_as_na option is deprecated and will be removed in a future version. Convert inf values to NaN before operating instead.\n",
      "  with pd.option_context('mode.use_inf_as_na', True):\n"
     ]
    },
    {
     "data": {
      "text/plain": [
       "<Axes: >"
      ]
     },
     "execution_count": 20,
     "metadata": {},
     "output_type": "execute_result"
    },
    {
     "data": {
      "image/png": "[encoded data removed]",
      "text/plain": [
       "<Figure size 640x480 with 1 Axes>"
      ]
     },
     "metadata": {},
     "output_type": "display_data"
    }
   ],
   "source": [
    "data100000 = pd.read_csv(\"./sc2001-1-100000.csv\", header=None)\n",
    "data100000.drop(data100000.columns[10], axis=1, inplace=True)\n",
    "data100000.columns = range(1, 11)\n",
    "data100000.head(100)\n",
    "\n",
    "import pandas as pd\n",
    "\n",
    "column_means_100000 = data100000.mean()\n",
    "\n",
    "print(column_means_100000)\n",
    "\n",
    "sns.lineplot(data=column_means_100000)\n"
   ]
  },
  {
   "cell_type": "code",
   "execution_count": 21,
   "metadata": {},
   "outputs": [
    {
     "name": "stdout",
     "output_type": "stream",
     "text": [
      "1     19674170.68\n",
      "2     19436264.39\n",
      "3     19403881.70\n",
      "4     19261550.35\n",
      "5     19261550.35\n",
      "6     19261550.35\n",
      "7     19290717.06\n",
      "8     19422806.70\n",
      "9     19422806.70\n",
      "10    19422806.70\n",
      "dtype: float64\n"
     ]
    },
    {
     "name": "stderr",
     "output_type": "stream",
     "text": [
      "c:\\Users\\13248\\AppData\\Local\\Programs\\Python\\Python311\\Lib\\site-packages\\seaborn\\_oldcore.py:1498: FutureWarning: is_categorical_dtype is deprecated and will be removed in a future version. Use isinstance(dtype, CategoricalDtype) instead\n",
      "  if pd.api.types.is_categorical_dtype(vector):\n",
      "c:\\Users\\13248\\AppData\\Local\\Programs\\Python\\Python311\\Lib\\site-packages\\seaborn\\_oldcore.py:1498: FutureWarning: is_categorical_dtype is deprecated and will be removed in a future version. Use isinstance(dtype, CategoricalDtype) instead\n",
      "  if pd.api.types.is_categorical_dtype(vector):\n",
      "c:\\Users\\13248\\AppData\\Local\\Programs\\Python\\Python311\\Lib\\site-packages\\seaborn\\_oldcore.py:1119: FutureWarning: use_inf_as_na option is deprecated and will be removed in a future version. Convert inf values to NaN before operating instead.\n",
      "  with pd.option_context('mode.use_inf_as_na', True):\n",
      "c:\\Users\\13248\\AppData\\Local\\Programs\\Python\\Python311\\Lib\\site-packages\\seaborn\\_oldcore.py:1119: FutureWarning: use_inf_as_na option is deprecated and will be removed in a future version. Convert inf values to NaN before operating instead.\n",
      "  with pd.option_context('mode.use_inf_as_na', True):\n"
     ]
    },
    {
     "data": {
      "text/plain": [
       "<Axes: >"
      ]
     },
     "execution_count": 21,
     "metadata": {},
     "output_type": "execute_result"
    },
    {
     "data": {
      "image/png": "[encoded data removed]",
      "text/plain": [
       "<Figure size 640x480 with 1 Axes>"
      ]
     },
     "metadata": {},
     "output_type": "display_data"
    }
   ],
   "source": [
    "data1000000 = pd.read_csv(\"./sc2001-1-1000000.csv\", header=None)\n",
    "data1000000.drop(data1000000.columns[10], axis=1, inplace=True)\n",
    "data1000000.columns = range(1, 11)\n",
    "data1000000.head(100)\n",
    "\n",
    "import pandas as pd\n",
    "\n",
    "column_means_1000000 = data1000000.mean()\n",
    "\n",
    "print(column_means_1000000)\n",
    "\n",
    "sns.lineplot(data=column_means_1000000)"
   ]
  },
  {
   "cell_type": "code",
   "execution_count": 22,
   "metadata": {},
   "outputs": [
    {
     "name": "stdout",
     "output_type": "stream",
     "text": [
      "1     2.301008e+08\n",
      "2     2.280037e+08\n",
      "3     2.269294e+08\n",
      "4     2.266055e+08\n",
      "5     2.257999e+08\n",
      "6     2.257999e+08\n",
      "7     2.257999e+08\n",
      "8     2.257999e+08\n",
      "9     2.270950e+08\n",
      "10    2.294403e+08\n",
      "dtype: float64\n"
     ]
    },
    {
     "name": "stderr",
     "output_type": "stream",
     "text": [
      "c:\\Users\\13248\\AppData\\Local\\Programs\\Python\\Python311\\Lib\\site-packages\\seaborn\\_oldcore.py:1498: FutureWarning: is_categorical_dtype is deprecated and will be removed in a future version. Use isinstance(dtype, CategoricalDtype) instead\n",
      "  if pd.api.types.is_categorical_dtype(vector):\n",
      "c:\\Users\\13248\\AppData\\Local\\Programs\\Python\\Python311\\Lib\\site-packages\\seaborn\\_oldcore.py:1498: FutureWarning: is_categorical_dtype is deprecated and will be removed in a future version. Use isinstance(dtype, CategoricalDtype) instead\n",
      "  if pd.api.types.is_categorical_dtype(vector):\n",
      "c:\\Users\\13248\\AppData\\Local\\Programs\\Python\\Python311\\Lib\\site-packages\\seaborn\\_oldcore.py:1119: FutureWarning: use_inf_as_na option is deprecated and will be removed in a future version. Convert inf values to NaN before operating instead.\n",
      "  with pd.option_context('mode.use_inf_as_na', True):\n",
      "c:\\Users\\13248\\AppData\\Local\\Programs\\Python\\Python311\\Lib\\site-packages\\seaborn\\_oldcore.py:1119: FutureWarning: use_inf_as_na option is deprecated and will be removed in a future version. Convert inf values to NaN before operating instead.\n",
      "  with pd.option_context('mode.use_inf_as_na', True):\n"
     ]
    },
    {
     "data": {
      "text/plain": [
       "<Axes: >"
      ]
     },
     "execution_count": 22,
     "metadata": {},
     "output_type": "execute_result"
    },
    {
     "data": {
      "image/png": "[encoded data removed]",
      "text/plain": [
       "<Figure size 640x480 with 1 Axes>"
      ]
     },
     "metadata": {},
     "output_type": "display_data"
    }
   ],
   "source": [
    "data10000000 = pd.read_csv(\"./sc2001-1-10000000.csv\", header=None)\n",
    "data10000000.drop(data10000000.columns[10], axis=1, inplace=True)\n",
    "data10000000.columns = range(1, 11)\n",
    "data10000000.head(100)\n",
    "\n",
    "import pandas as pd\n",
    "\n",
    "column_means_10000000 = data10000000.mean()\n",
    "\n",
    "print(column_means_10000000)\n",
    "\n",
    "sns.lineplot(data=column_means_10000000)"
   ]
  }
 ],
 "metadata": {
  "kernelspec": {
   "display_name": "Python 3",
   "language": "python",
   "name": "python3"
  },
  "language_info": {
   "codemirror_mode": {
    "name": "ipython",
    "version": 3
   },
   "file_extension": ".py",
   "mimetype": "text/x-python",
   "name": "python",
   "nbconvert_exporter": "python",
   "pygments_lexer": "ipython3",
   "version": "3.11.5"
  },
  "orig_nbformat": 4
 },
 "nbformat": 4,
 "nbformat_minor": 2
}
